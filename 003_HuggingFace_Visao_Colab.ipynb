{
  "cells": [
    {
      "cell_type": "markdown",
      "metadata": {
        "id": "view-in-github",
        "colab_type": "text"
      },
      "source": [
        "<a href=\"https://colab.research.google.com/github/prof-atritiack/visao-computacional-huggingface/blob/main/003_HuggingFace_Visao_Colab.ipynb\" target=\"_parent\"><img src=\"https://colab.research.google.com/assets/colab-badge.svg\" alt=\"Open In Colab\"/></a>"
      ]
    },
    {
      "cell_type": "markdown",
      "id": "cbe18921",
      "metadata": {
        "id": "cbe18921"
      },
      "source": [
        "\n",
        "# **Hugging Face - Visão Computacional no Colab**\n",
        "\n",
        "Este notebook apresenta exemplos de **classificação de imagens** e **detecção de objetos** utilizando modelos pré-treinados disponíveis no **Hugging Face Hub**.  \n",
        "Inclui também chamadas à **Inference API** para executar tarefas diretamente na nuvem.\n",
        "\n"
      ]
    },
    {
      "cell_type": "markdown",
      "id": "47e047d1",
      "metadata": {
        "id": "47e047d1"
      },
      "source": [
        "## **1. Instalação das dependências**"
      ]
    },
    {
      "cell_type": "code",
      "execution_count": null,
      "id": "5b18d47f",
      "metadata": {
        "id": "5b18d47f"
      },
      "outputs": [],
      "source": [
        "!pip install -U huggingface_hub transformers pillow torch"
      ]
    },
    {
      "cell_type": "markdown",
      "id": "4d648bb9",
      "metadata": {
        "id": "4d648bb9"
      },
      "source": [
        "## **2. Login no Hugging Face Hub**"
      ]
    },
    {
      "cell_type": "code",
      "execution_count": null,
      "id": "0d058cab",
      "metadata": {
        "id": "0d058cab"
      },
      "outputs": [],
      "source": [
        "from huggingface_hub import login\n",
        "from google.colab import userdata\n",
        "\n",
        "# O token deve ser configurado em: Colab -> Secrets -> HF_TOKEN\n",
        "token = userdata.get('HF_TOKEN')\n",
        "login(token=token)"
      ]
    },
    {
      "cell_type": "markdown",
      "id": "63c23f4b",
      "metadata": {
        "id": "63c23f4b"
      },
      "source": [
        "## **3. Preparação das imagens de teste**"
      ]
    },
    {
      "cell_type": "code",
      "execution_count": null,
      "id": "accfce5a",
      "metadata": {
        "id": "accfce5a"
      },
      "outputs": [],
      "source": [
        "from pathlib import Path\n",
        "from PIL import Image\n",
        "\n",
        "IMAGES_DIR = Path(\"datasets/imagens\")\n",
        "IMAGES_DIR.mkdir(parents=True, exist_ok=True)\n",
        "\n",
        "exemplo_imagem = IMAGES_DIR / \"exemplo.jpg\"\n",
        "\n",
        "if exemplo_imagem.exists():\n",
        "    print(\"Imagem encontrada:\", exemplo_imagem)\n",
        "else:\n",
        "    print(\"⚠️ Adicione uma imagem chamada 'exemplo.jpg' em datasets/imagens/\")"
      ]
    },
    {
      "cell_type": "markdown",
      "id": "8925dfc4",
      "metadata": {
        "id": "8925dfc4"
      },
      "source": [
        "## **4. Classificação de imagens**"
      ]
    },
    {
      "cell_type": "code",
      "execution_count": null,
      "id": "986fe7d7",
      "metadata": {
        "id": "986fe7d7"
      },
      "outputs": [],
      "source": [
        "from transformers import pipeline\n",
        "import cv2\n",
        "import numpy as np\n",
        "from google.colab.patches import cv2_imshow\n",
        "\n",
        "MODEL_CLF = \"google/vit-base-patch16-224\"\n",
        "clf = pipeline(task=\"image-classification\", model=MODEL_CLF)\n",
        "\n",
        "if exemplo_imagem.exists():\n",
        "    img = Image.open(exemplo_imagem).convert(\"RGB\")\n",
        "    preds = clf(str(exemplo_imagem))\n",
        "\n",
        "    print(\"Resultados da classificação:\")\n",
        "    for p in preds:\n",
        "        print(f\"{p['label']}: {p['score']:.4f}\")\n",
        "\n",
        "    img_cv = cv2.cvtColor(np.array(img), cv2.COLOR_RGB2BGR)\n",
        "    cv2_imshow(img_cv)"
      ]
    },
    {
      "cell_type": "markdown",
      "id": "12ef1602",
      "metadata": {
        "id": "12ef1602"
      },
      "source": [
        "## **5. Detecção de objetos**"
      ]
    },
    {
      "cell_type": "code",
      "execution_count": null,
      "id": "ebfa8710",
      "metadata": {
        "id": "ebfa8710"
      },
      "outputs": [],
      "source": [
        "from transformers import pipeline\n",
        "from PIL import ImageDraw\n",
        "\n",
        "MODEL_DET = \"facebook/detr-resnet-50\"\n",
        "detector = pipeline(task=\"object-detection\", model=MODEL_DET)\n",
        "\n",
        "if exemplo_imagem.exists():\n",
        "    img = Image.open(exemplo_imagem).convert(\"RGB\")\n",
        "    draw = ImageDraw.Draw(img)\n",
        "    dets = detector(str(exemplo_imagem))\n",
        "\n",
        "    print(\"Resultados da detecção:\")\n",
        "    cores = [\"red\", \"blue\", \"green\", \"orange\", \"purple\", \"cyan\", \"magenta\", \"yellow\"]\n",
        "    for i, d in enumerate(dets):\n",
        "        box = d['box']\n",
        "        cor = cores[i % len(cores)]\n",
        "        draw.rectangle([(box['xmin'], box['ymin']), (box['xmax'], box['ymax'])], outline=cor, width=3)\n",
        "        draw.text((box['xmin'], box['ymin']-10), f\"{d['label']} {d['score']:.2f}\", fill=cor)\n",
        "        print(f\"{d['label']} ({d['score']:.2f}) -> {box}\")\n",
        "\n",
        "    img_cv = cv2.cvtColor(np.array(img), cv2.COLOR_RGB2BGR)\n",
        "    cv2_imshow(img_cv)"
      ]
    },
    {
      "cell_type": "markdown",
      "id": "ba57d18e",
      "metadata": {
        "id": "ba57d18e"
      },
      "source": [
        "## **6. Uso da Inference API (Classificação)**"
      ]
    },
    {
      "cell_type": "code",
      "execution_count": null,
      "id": "2d4b454c",
      "metadata": {
        "id": "2d4b454c"
      },
      "outputs": [],
      "source": [
        "import requests, json\n",
        "\n",
        "API_MODEL = MODEL_CLF\n",
        "API_URL = f\"https://api-inference.huggingface.co/models/{API_MODEL}\"\n",
        "\n",
        "headers = {\"Authorization\": f\"Bearer {token}\", \"Content-Type\": \"image/jpeg\"}\n",
        "\n",
        "if exemplo_imagem.exists():\n",
        "    with open(exemplo_imagem, \"rb\") as f:\n",
        "        data = f.read()\n",
        "    resp = requests.post(API_URL, headers=headers, data=data)\n",
        "\n",
        "    print(\"Status da requisição:\", resp.status_code)\n",
        "    resposta = resp.json()\n",
        "    print(\"Resposta da API (Classificação):\")\n",
        "    print(json.dumps(resposta, indent=2, ensure_ascii=False))"
      ]
    },
    {
      "cell_type": "markdown",
      "id": "32ab1daa",
      "metadata": {
        "id": "32ab1daa"
      },
      "source": [
        "## **7. Uso da Inference API (Detecção de objetos)**"
      ]
    },
    {
      "cell_type": "code",
      "execution_count": null,
      "id": "3bcbef58",
      "metadata": {
        "id": "3bcbef58"
      },
      "outputs": [],
      "source": [
        "API_MODEL = MODEL_DET\n",
        "API_URL = f\"https://api-inference.huggingface.co/models/{API_MODEL}\"\n",
        "\n",
        "if exemplo_imagem.exists():\n",
        "    with open(exemplo_imagem, \"rb\") as f:\n",
        "        data = f.read()\n",
        "    resp = requests.post(API_URL, headers=headers, data=data)\n",
        "\n",
        "    print(\"Status da requisição:\", resp.status_code)\n",
        "    resposta = resp.json()\n",
        "    print(\"Resposta da API (Detecção):\")\n",
        "    print(json.dumps(resposta, indent=2, ensure_ascii=False))\n",
        "\n",
        "    img = Image.open(exemplo_imagem).convert(\"RGB\")\n",
        "    draw = ImageDraw.Draw(img)\n",
        "    cores = [\"red\", \"blue\", \"green\", \"orange\", \"purple\", \"cyan\", \"magenta\", \"yellow\"]\n",
        "\n",
        "    if isinstance(resposta, list):\n",
        "        for i, d in enumerate(resposta):\n",
        "            if \"box\" in d:\n",
        "                box = d[\"box\"]\n",
        "                cor = cores[i % len(cores)]\n",
        "                draw.rectangle([(box[\"xmin\"], box[\"ymin\"]), (box[\"xmax\"], box[\"ymax\"])], outline=cor, width=3)\n",
        "                draw.text((box[\"xmin\"], box[\"ymin\"]-10), f\"{d['label']} {d['score']:.2f}\", fill=cor)\n",
        "\n",
        "    img_cv = cv2.cvtColor(np.array(img), cv2.COLOR_RGB2BGR)\n",
        "    cv2_imshow(img_cv)"
      ]
    }
  ],
  "metadata": {
    "colab": {
      "provenance": [],
      "include_colab_link": true
    }
  },
  "nbformat": 4,
  "nbformat_minor": 5
}